{
 "cells": [
  {
   "cell_type": "code",
   "execution_count": 2,
   "id": "0b2a1ae9",
   "metadata": {},
   "outputs": [
    {
     "name": "stdout",
     "output_type": "stream",
     "text": [
      "Enter the distance in kilometers5\n",
      "Distance in miles is: 3.1069999999999998\n"
     ]
    }
   ],
   "source": [
    "#Answer1: \n",
    "kms=int(input(\"Enter the distance in kilometers\"))\n",
    "miles=kms*0.6214\n",
    "print('Distance in miles is: {}'.format(miles))"
   ]
  },
  {
   "cell_type": "code",
   "execution_count": 5,
   "id": "e948a8bf",
   "metadata": {},
   "outputs": [
    {
     "name": "stdout",
     "output_type": "stream",
     "text": [
      "Enter the temprature in celsius: 98\n",
      "Temprature in fahrenheit is: 208.4\n"
     ]
    }
   ],
   "source": [
    "#Answer2: \n",
    "cel=int(input(\"Enter the temprature in celsius: \"))\n",
    "fah=(cel*9/5)+32\n",
    "print('Temprature in fahrenheit is: {}'.format(fah))"
   ]
  },
  {
   "cell_type": "code",
   "execution_count": 7,
   "id": "d189f708",
   "metadata": {},
   "outputs": [
    {
     "name": "stdout",
     "output_type": "stream",
     "text": [
      "Enter the year: 2015\n",
      "Enter the month: 8\n",
      "    August 2015\n",
      "Mo Tu We Th Fr Sa Su\n",
      "                1  2\n",
      " 3  4  5  6  7  8  9\n",
      "10 11 12 13 14 15 16\n",
      "17 18 19 20 21 22 23\n",
      "24 25 26 27 28 29 30\n",
      "31\n",
      "\n"
     ]
    }
   ],
   "source": [
    "#Answer3:\n",
    "import calendar\n",
    "yy=int(input(\"Enter the year: \"))\n",
    "mm=int(input(\"Enter the month: \"))\n",
    "print(calendar.month(yy,mm))"
   ]
  },
  {
   "cell_type": "code",
   "execution_count": 9,
   "id": "273cfc79",
   "metadata": {},
   "outputs": [
    {
     "name": "stdout",
     "output_type": "stream",
     "text": [
      "a: 1\n",
      "b: 5\n",
      "c: 6\n",
      "Two real roots\n",
      "Roots are: (-2+0j) and (-3+0j)\n"
     ]
    }
   ],
   "source": [
    "#Answer4: \n",
    "import cmath\n",
    "a=int(input(\"a: \"))\n",
    "b=int(input(\"b: \"))\n",
    "c=int(input(\"c: \"))\n",
    "x=(b*b)-(4*a*c)\n",
    "if(x==0):\n",
    "    print('One real root')\n",
    "elif x>0:\n",
    "    print('Two real roots')\n",
    "elif x<0:\n",
    "    print('Two complex roots')\n",
    "root1=(-b+cmath.sqrt(x))/2*a\n",
    "root2=(-b-cmath.sqrt(x))/2*a\n",
    "print('Roots are: {0} and {1}'.format(root1,root2))"
   ]
  },
  {
   "cell_type": "code",
   "execution_count": 10,
   "id": "7a26c92e",
   "metadata": {},
   "outputs": [
    {
     "name": "stdout",
     "output_type": "stream",
     "text": [
      "Enter 1st variable: 2\n",
      "Enter 2nd variable: 3\n",
      "After swaping x is 3 and y is 2\n"
     ]
    }
   ],
   "source": [
    "#Answer5:\n",
    "x=int(input(\"Enter 1st variable: \"))\n",
    "y=int(input(\"Enter 2nd variable: \"))\n",
    "x=x+y\n",
    "y=x-y\n",
    "x=x-y\n",
    "print('After swaping x is {0} and y is {1}'.format(x,y))"
   ]
  },
  {
   "cell_type": "code",
   "execution_count": null,
   "id": "983315cc",
   "metadata": {},
   "outputs": [],
   "source": []
  }
 ],
 "metadata": {
  "kernelspec": {
   "display_name": "Python 3 (ipykernel)",
   "language": "python",
   "name": "python3"
  },
  "language_info": {
   "codemirror_mode": {
    "name": "ipython",
    "version": 3
   },
   "file_extension": ".py",
   "mimetype": "text/x-python",
   "name": "python",
   "nbconvert_exporter": "python",
   "pygments_lexer": "ipython3",
   "version": "3.9.12"
  }
 },
 "nbformat": 4,
 "nbformat_minor": 5
}
