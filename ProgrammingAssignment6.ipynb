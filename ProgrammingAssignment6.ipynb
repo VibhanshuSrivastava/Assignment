{
 "cells": [
  {
   "cell_type": "code",
   "execution_count": 1,
   "id": "ab7718c2",
   "metadata": {},
   "outputs": [
    {
     "data": {
      "text/plain": [
       "[1, 2, 3, 5, 8, 13, 21, 34, 55, 89]"
      ]
     },
     "execution_count": 1,
     "metadata": {},
     "output_type": "execute_result"
    }
   ],
   "source": [
    "#Answer1:\n",
    "a=0\n",
    "b=1\n",
    "l1=[]\n",
    "n=10\n",
    "def fibonacciSeries():\n",
    "    global a,b,l1\n",
    "    c=a+b\n",
    "    a=b\n",
    "    b=c\n",
    "    l1.append(c)\n",
    "    if(len(l1)<n):\n",
    "        fibonacciSeries()\n",
    "    return (l1)\n",
    "fibonacciSeries()\n",
    "    \n",
    "    "
   ]
  },
  {
   "cell_type": "code",
   "execution_count": 3,
   "id": "95c53743",
   "metadata": {},
   "outputs": [
    {
     "data": {
      "text/plain": [
       "120"
      ]
     },
     "execution_count": 3,
     "metadata": {},
     "output_type": "execute_result"
    }
   ],
   "source": [
    "#Answer2:\n",
    "fact=1\n",
    "num=5\n",
    "def factorialNumber():\n",
    "    global fact, num\n",
    "    fact=fact*num\n",
    "    num-=1\n",
    "    if (num>0):\n",
    "        \n",
    "        factorialNumber()\n",
    "        \n",
    "    return fact\n",
    "factorialNumber()\n"
   ]
  },
  {
   "cell_type": "code",
   "execution_count": 13,
   "id": "12c2c374",
   "metadata": {},
   "outputs": [
    {
     "name": "stdout",
     "output_type": "stream",
     "text": [
      "Obesity class 2\n"
     ]
    }
   ],
   "source": [
    "#Answer3:\n",
    "def BMICalc(weightinkgs,heightinimetres):\n",
    "    bmi=weightinkgs/(heightinimetres**2)\n",
    "    if bmi<18.5:\n",
    "        print('Underweight')\n",
    "    elif bmi>=18.5 and bmi<=24.9:\n",
    "        print(\"Normal\")\n",
    "    elif bmi>=25 and bmi<=29.9:\n",
    "        print(\"Overweight\")\n",
    "    elif bmi>=30 and bmi<=34.9:\n",
    "        print(\"Obesity class 1\")\n",
    "    elif bmi>=35 and bmi<=39.9:\n",
    "        print(\"Obesity class 2\")\n",
    "    elif bmi>=40:\n",
    "        print(\"Obesity class 3\")\n",
    "BMICalc(87,1.55)"
   ]
  },
  {
   "cell_type": "code",
   "execution_count": 14,
   "id": "ead9a05f",
   "metadata": {},
   "outputs": [
    {
     "data": {
      "text/plain": [
       "1.6094379124341003"
      ]
     },
     "execution_count": 14,
     "metadata": {},
     "output_type": "execute_result"
    }
   ],
   "source": [
    "#Answer4:\n",
    "import math\n",
    "def calculateLog(n):\n",
    "    return math.log(n)\n",
    "calculateLog(5)"
   ]
  },
  {
   "cell_type": "code",
   "execution_count": 25,
   "id": "08eeb67e",
   "metadata": {},
   "outputs": [
    {
     "data": {
      "text/plain": [
       "[1, 125, 343]"
      ]
     },
     "execution_count": 25,
     "metadata": {},
     "output_type": "execute_result"
    }
   ],
   "source": [
    "#Answer5:\n",
    "def cubeSum(*args):\n",
    "    sum=0\n",
    "    l1=[]\n",
    "    for i in args:\n",
    "        l1.append(i**3)\n",
    "    for i in l1:\n",
    "        sum=sum+1\n",
    "    return l1\n",
    "cubeSum(1,5,7)"
   ]
  },
  {
   "cell_type": "code",
   "execution_count": null,
   "id": "74bbe0ac",
   "metadata": {},
   "outputs": [],
   "source": []
  }
 ],
 "metadata": {
  "kernelspec": {
   "display_name": "Python 3 (ipykernel)",
   "language": "python",
   "name": "python3"
  },
  "language_info": {
   "codemirror_mode": {
    "name": "ipython",
    "version": 3
   },
   "file_extension": ".py",
   "mimetype": "text/x-python",
   "name": "python",
   "nbconvert_exporter": "python",
   "pygments_lexer": "ipython3",
   "version": "3.9.12"
  }
 },
 "nbformat": 4,
 "nbformat_minor": 5
}
