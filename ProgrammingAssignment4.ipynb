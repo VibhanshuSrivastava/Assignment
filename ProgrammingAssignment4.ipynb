{
 "cells": [
  {
   "cell_type": "code",
   "execution_count": 1,
   "id": "995ed66a",
   "metadata": {},
   "outputs": [
    {
     "name": "stdout",
     "output_type": "stream",
     "text": [
      "Enter a number: 5\n",
      "Factorial of 5 is 120\n"
     ]
    }
   ],
   "source": [
    "#Answer1:\n",
    "num=int(input(\"Enter a number: \"))\n",
    "a=num\n",
    "fact=1\n",
    "while(num>0):\n",
    "    fact=fact*num\n",
    "    num-=1\n",
    "print(\"Factorial of {0} is {1}\".format(a,fact))"
   ]
  },
  {
   "cell_type": "code",
   "execution_count": 2,
   "id": "7a6e8b18",
   "metadata": {},
   "outputs": [
    {
     "name": "stdout",
     "output_type": "stream",
     "text": [
      "Enter the number: 9\n",
      "9 * 1 = 9\n",
      "9 * 2 = 18\n",
      "9 * 3 = 27\n",
      "9 * 4 = 36\n",
      "9 * 5 = 45\n",
      "9 * 6 = 54\n",
      "9 * 7 = 63\n",
      "9 * 8 = 72\n",
      "9 * 9 = 81\n",
      "9 * 10 = 90\n"
     ]
    }
   ],
   "source": [
    "#Answer2\n",
    "n=int(input(\"Enter the number: \"))\n",
    "mul=0\n",
    "for i in range(1,11):\n",
    "    mul=n*i\n",
    "    print(\"{0} * {1} = {2}\".format(n,i,mul))"
   ]
  },
  {
   "cell_type": "code",
   "execution_count": 3,
   "id": "f240d48c",
   "metadata": {},
   "outputs": [
    {
     "name": "stdout",
     "output_type": "stream",
     "text": [
      "Enter the size of sries: 10\n",
      "[0, 1, 1, 2, 3, 5, 8, 13, 21, 34]\n"
     ]
    }
   ],
   "source": [
    "#Answer3:\n",
    "s=int(input(\"Enter the size of sries: \"))\n",
    "l=[0,1]\n",
    "for i in range(2,s):\n",
    "    l.append(l[i-2]+l[i-1])\n",
    "print(l)"
   ]
  },
  {
   "cell_type": "code",
   "execution_count": 14,
   "id": "c7461723",
   "metadata": {},
   "outputs": [
    {
     "name": "stdout",
     "output_type": "stream",
     "text": [
      "Enter the number: 1\n",
      "1 is an armstrong number\n"
     ]
    }
   ],
   "source": [
    "#Answer4\n",
    "n=int(input(\"Enter the number: \"))\n",
    "a=n\n",
    "b=n\n",
    "sumOfDigits=0\n",
    "count=0\n",
    "while(n!=0):\n",
    "    n=int(n/10)\n",
    "    count+=1\n",
    "while a!=0:\n",
    "    rem=a%10\n",
    "    x=pow(rem,count)\n",
    "    sumOfDigits=sumOfDigits+x\n",
    "    a=int(a/10)\n",
    "if sumOfDigits==b:\n",
    "    print(\"{0} is an armstrong number\".format(b))\n",
    "else:\n",
    "    print(\"{0} is not an armstrong number\".format(b))\n"
   ]
  },
  {
   "cell_type": "code",
   "execution_count": 2,
   "id": "18888de9",
   "metadata": {},
   "outputs": [
    {
     "name": "stdout",
     "output_type": "stream",
     "text": [
      "Enter the lower range: 100\n",
      "Enter the upper range: 1000\n",
      "153\n",
      "370\n",
      "371\n",
      "407\n"
     ]
    }
   ],
   "source": [
    "#Answer5:\n",
    "m=int(input('Enter the lower range: '))\n",
    "n=int(input(\"Enter the upper range: \"))\n",
    "l=[]\n",
    "for i in range(m,n):\n",
    "    count=0\n",
    "    a=i\n",
    "    b=i\n",
    "    sumOfDigits=0\n",
    "    while(i!=0):\n",
    "        i=int(i/10)\n",
    "        count+=1\n",
    "    while a!=0:\n",
    "        rem=a%10\n",
    "        x=pow(rem,count)\n",
    "        sumOfDigits=sumOfDigits+x\n",
    "        a=int(a/10)\n",
    "    if sumOfDigits==b:\n",
    "        print(b)\n",
    "\n",
    "\n",
    "    "
   ]
  },
  {
   "cell_type": "code",
   "execution_count": 4,
   "id": "e3b5640e",
   "metadata": {},
   "outputs": [
    {
     "name": "stdout",
     "output_type": "stream",
     "text": [
      "Enter the number till which you want to find the sum: 10\n",
      "55\n"
     ]
    }
   ],
   "source": [
    "#Answer6: \n",
    "n=int(input(\"Enter the number till which you want to find the sum: \"))\n",
    "sum=0\n",
    "for i in range(1,n+1):\n",
    "    sum=sum+i\n",
    "print(sum)"
   ]
  },
  {
   "cell_type": "code",
   "execution_count": null,
   "id": "fbbd963d",
   "metadata": {
    "collapsed": true
   },
   "outputs": [],
   "source": []
  },
  {
   "cell_type": "code",
   "execution_count": null,
   "id": "0d118491",
   "metadata": {},
   "outputs": [],
   "source": []
  }
 ],
 "metadata": {
  "kernelspec": {
   "display_name": "Python 3 (ipykernel)",
   "language": "python",
   "name": "python3"
  },
  "language_info": {
   "codemirror_mode": {
    "name": "ipython",
    "version": 3
   },
   "file_extension": ".py",
   "mimetype": "text/x-python",
   "name": "python",
   "nbconvert_exporter": "python",
   "pygments_lexer": "ipython3",
   "version": "3.9.12"
  }
 },
 "nbformat": 4,
 "nbformat_minor": 5
}
