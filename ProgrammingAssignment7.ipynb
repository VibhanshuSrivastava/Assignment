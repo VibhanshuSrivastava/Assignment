{
 "cells": [
  {
   "cell_type": "code",
   "execution_count": 20,
   "id": "c4da2a96",
   "metadata": {},
   "outputs": [
    {
     "data": {
      "text/plain": [
       "17"
      ]
     },
     "execution_count": 20,
     "metadata": {},
     "output_type": "execute_result"
    }
   ],
   "source": [
    "#Answer1:\n",
    "import array\n",
    "def sumOfArray(l1):\n",
    "    sum=0\n",
    "    arr=array.array('i',l1)\n",
    "    for i in range(len(arr)):\n",
    "        sum=sum+arr[i]\n",
    "    return sum\n",
    "sumOfArray([2,3,5,7])"
   ]
  },
  {
   "cell_type": "code",
   "execution_count": 21,
   "id": "c12ed208",
   "metadata": {},
   "outputs": [
    {
     "data": {
      "text/plain": [
       "120"
      ]
     },
     "execution_count": 21,
     "metadata": {},
     "output_type": "execute_result"
    }
   ],
   "source": [
    "#Answer2:\n",
    "def maxOfArray(l):\n",
    "    max=0\n",
    "    arr=array.array('i',l)\n",
    "    for i in range(len(arr)):\n",
    "        if(arr[i]>max):\n",
    "            max=arr[i]\n",
    "    return max\n",
    "maxOfArray([10,65,87,45,120,98])"
   ]
  },
  {
   "cell_type": "code",
   "execution_count": 22,
   "id": "dafcb753",
   "metadata": {},
   "outputs": [
    {
     "name": "stdout",
     "output_type": "stream",
     "text": [
      "6\n"
     ]
    },
    {
     "data": {
      "text/plain": [
       "array('i', [78, 2, 3, 5, 7, 98])"
      ]
     },
     "execution_count": 22,
     "metadata": {},
     "output_type": "execute_result"
    }
   ],
   "source": [
    "#Answer3:\n",
    "def arrRotation():\n",
    "    arr=array.array('i',[2,3,5,7,98,78])\n",
    "    arr2=array.array('i',[])\n",
    "    print(len(arr))\n",
    "    for i in range(len(arr)):\n",
    "        if i==len(arr)-1:\n",
    "            arr2.insert(0,arr[i])\n",
    "        else:\n",
    "            arr2.insert(i+1,arr[i])\n",
    "            \n",
    "    return arr2\n",
    "arrRotation()"
   ]
  },
  {
   "cell_type": "code",
   "execution_count": 7,
   "id": "14f30c91",
   "metadata": {},
   "outputs": [
    {
     "data": {
      "text/plain": [
       "array('i', [98, 78, 2, 3, 5, 7])"
      ]
     },
     "execution_count": 7,
     "metadata": {},
     "output_type": "execute_result"
    }
   ],
   "source": [
    "#Answer4:\n",
    "import array\n",
    "def splitArray():\n",
    "    n=3\n",
    "    arr=array.array('i',[2,3,5,7,98,78])\n",
    "    arr2=array.array('i',[])\n",
    "    for i in range(len(arr)):\n",
    "        if (i<=n):\n",
    "            arr2.insert(n-i+(i*2),arr[i])\n",
    "        else:\n",
    "            arr2.insert(i-n-1,arr[i])\n",
    "    return arr2\n",
    "splitArray()\n",
    "        \n",
    "            \n",
    "            \n",
    "        "
   ]
  },
  {
   "cell_type": "code",
   "execution_count": 34,
   "id": "815d1ea1",
   "metadata": {},
   "outputs": [
    {
     "name": "stdout",
     "output_type": "stream",
     "text": [
      "array is monotonic\n"
     ]
    }
   ],
   "source": [
    "#Answer5:\n",
    "import array\n",
    "def monotonic():\n",
    "    count=0\n",
    "    countDesc=0\n",
    "    arr=array.array('i',[6,5,4,4])\n",
    "    for i in range(len(arr)):\n",
    "        if i<len(arr)-1:\n",
    "            if arr[i]<=arr[i+1]:\n",
    "                count+=1\n",
    "    if count==len(arr)-1:\n",
    "        return True\n",
    "    for i in range(len(arr)-1,-1,-1):\n",
    "        if i<len(arr)-1:\n",
    "            if arr[i]>=arr[i+1]:\n",
    "                countDesc+=1\n",
    "    if countDesc==len(arr)-1:\n",
    "        return True\n",
    "    \n",
    "if monotonic():\n",
    "    print('array is monotonic')\n",
    "else:\n",
    "    print('array is not monotonic')\n",
    "                \n",
    "            "
   ]
  },
  {
   "cell_type": "code",
   "execution_count": null,
   "id": "f7ebae8d",
   "metadata": {},
   "outputs": [],
   "source": []
  }
 ],
 "metadata": {
  "kernelspec": {
   "display_name": "Python 3 (ipykernel)",
   "language": "python",
   "name": "python3"
  },
  "language_info": {
   "codemirror_mode": {
    "name": "ipython",
    "version": 3
   },
   "file_extension": ".py",
   "mimetype": "text/x-python",
   "name": "python",
   "nbconvert_exporter": "python",
   "pygments_lexer": "ipython3",
   "version": "3.9.12"
  }
 },
 "nbformat": 4,
 "nbformat_minor": 5
}
