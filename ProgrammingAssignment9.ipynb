{
 "cells": [
  {
   "cell_type": "code",
   "execution_count": 9,
   "id": "d57ef4c5",
   "metadata": {},
   "outputs": [
    {
     "name": "stdout",
     "output_type": "stream",
     "text": [
      "Disarium Number\n"
     ]
    }
   ],
   "source": [
    "#Answer1:\n",
    "n=89\n",
    "s=str(n)\n",
    "sum=0\n",
    "for i in range(len(s)):\n",
    "    sum=sum+int(s[i])**(i+1)\n",
    "if sum==n:\n",
    "    print('Disarium Number')\n",
    "else:\n",
    "    print('Not a Disarium Number')\n",
    "    "
   ]
  },
  {
   "cell_type": "code",
   "execution_count": 12,
   "id": "a25eb735",
   "metadata": {},
   "outputs": [
    {
     "data": {
      "text/plain": [
       "[0, 1, 2, 3, 4, 5, 6, 7, 8, 9, 89]"
      ]
     },
     "execution_count": 12,
     "metadata": {},
     "output_type": "execute_result"
    }
   ],
   "source": [
    "#Answer2:\n",
    "l1=[]\n",
    "for i in range(0,100):\n",
    "    sum=0\n",
    "    s=str(i)\n",
    "    for j in range(len(s)):\n",
    "        sum=sum+int(s[j])**(j+1)\n",
    "    if sum==i:\n",
    "        l1.append(i)\n",
    "l1      "
   ]
  },
  {
   "cell_type": "code",
   "execution_count": 13,
   "id": "5ea8a2a2",
   "metadata": {},
   "outputs": [
    {
     "data": {
      "text/plain": [
       "True"
      ]
     },
     "execution_count": 13,
     "metadata": {},
     "output_type": "execute_result"
    }
   ],
   "source": [
    "#Answer3:\n",
    "def happyNumber(n):\n",
    "    s=set()\n",
    "    while n!=1:\n",
    "        sum=0\n",
    "        for i in str(n):\n",
    "            sum=sum+int(i)**2\n",
    "        n=sum\n",
    "        if n in s:\n",
    "            return False\n",
    "        s.add(n)\n",
    "    return True\n",
    "happyNumber(7)"
   ]
  },
  {
   "cell_type": "code",
   "execution_count": 14,
   "id": "936f7cff",
   "metadata": {},
   "outputs": [
    {
     "data": {
      "text/plain": [
       "[1, 7, 10, 13, 19, 23, 28, 31, 32, 44, 49, 68, 70, 79, 82, 86, 91, 94, 97, 100]"
      ]
     },
     "execution_count": 14,
     "metadata": {},
     "output_type": "execute_result"
    }
   ],
   "source": [
    "#Answer4:\n",
    "l1=[]\n",
    "for k in range(1,101):\n",
    "    if happyNumber(k):\n",
    "        l1.append(k)\n",
    "l1"
   ]
  },
  {
   "cell_type": "code",
   "execution_count": 19,
   "id": "b098d7ca",
   "metadata": {},
   "outputs": [
    {
     "name": "stdout",
     "output_type": "stream",
     "text": [
      "Enter a number: 21\n",
      "21 is a Harshad number\n"
     ]
    }
   ],
   "source": [
    "#Answer5:\n",
    "n=int(input('Enter a number: '))\n",
    "s=str(n)\n",
    "sum=0\n",
    "for i in range(len(s)):\n",
    "    sum=sum+int(s[i])\n",
    "if n%sum==0:\n",
    "    print('{0} is a Harshad number'.format(n))\n",
    "else:\n",
    "    print('{0} is not a Harshad number'.format(n))"
   ]
  },
  {
   "cell_type": "code",
   "execution_count": 23,
   "id": "64f797ea",
   "metadata": {},
   "outputs": [
    {
     "data": {
      "text/plain": [
       "[0, 2, 6, 12, 20, 30, 42, 56, 72, 90]"
      ]
     },
     "execution_count": 23,
     "metadata": {},
     "output_type": "execute_result"
    }
   ],
   "source": [
    "#Answer6:\n",
    "l1=[]\n",
    "for i in range(0,101):\n",
    "    j=0\n",
    "    while(j<=i):\n",
    "        k=j+1\n",
    "        if(j*k==i):\n",
    "            l1.append(i)\n",
    "        j+=1\n",
    "l1"
   ]
  }
 ],
 "metadata": {
  "kernelspec": {
   "display_name": "Python 3 (ipykernel)",
   "language": "python",
   "name": "python3"
  },
  "language_info": {
   "codemirror_mode": {
    "name": "ipython",
    "version": 3
   },
   "file_extension": ".py",
   "mimetype": "text/x-python",
   "name": "python",
   "nbconvert_exporter": "python",
   "pygments_lexer": "ipython3",
   "version": "3.9.12"
  }
 },
 "nbformat": 4,
 "nbformat_minor": 5
}
