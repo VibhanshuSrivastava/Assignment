{
 "cells": [
  {
   "cell_type": "code",
   "execution_count": 7,
   "id": "c30240e5",
   "metadata": {},
   "outputs": [
    {
     "name": "stdout",
     "output_type": "stream",
     "text": [
      "Enter the number: -3\n",
      "-3 is a negative  number\n"
     ]
    }
   ],
   "source": [
    "#Answer1:\n",
    "num=int(input('Enter the number: '))\n",
    "if(num>0):\n",
    "    print(\"{0} is a positive  number\".format(num))\n",
    "elif num<0:\n",
    "        print(\"{0} is a negative  number\".format(num))\n",
    "elif num==0:\n",
    "    print(\"You have entered zero\")"
   ]
  },
  {
   "cell_type": "code",
   "execution_count": 8,
   "id": "6e5fdd0e",
   "metadata": {},
   "outputs": [
    {
     "name": "stdout",
     "output_type": "stream",
     "text": [
      "Enter the number: 5\n",
      "5 is an odd  number\n"
     ]
    }
   ],
   "source": [
    "#Answer2:\n",
    "num=int(input('Enter the number: '))\n",
    "if num%2==0:\n",
    "    print(\"{0} is an even  number\".format(num))\n",
    "else:\n",
    "    print(\"{0} is an odd  number\".format(num))"
   ]
  },
  {
   "cell_type": "code",
   "execution_count": 18,
   "id": "7a55a543",
   "metadata": {},
   "outputs": [
    {
     "name": "stdout",
     "output_type": "stream",
     "text": [
      "Enter the year: 1992\n",
      "1992 is a leap year.\n"
     ]
    }
   ],
   "source": [
    "#Answer3:\n",
    "year=int(input('Enter the year: '))\n",
    "if year%4==0 or (year%100==0 and year%400==0):\n",
    "    print('{0} is a leap year.'.format(year))\n",
    "else:\n",
    "    print('{0} is not a leap year.'.format(year))"
   ]
  },
  {
   "cell_type": "code",
   "execution_count": 33,
   "id": "b692245e",
   "metadata": {},
   "outputs": [
    {
     "name": "stdout",
     "output_type": "stream",
     "text": [
      "Enter the number: 7\n",
      "1\n",
      "Number is a prime number\n"
     ]
    }
   ],
   "source": [
    "#Answer4: \n",
    "n=int(input(\"Enter the number: \"))\n",
    "count=0\n",
    "for i in range(1,n):\n",
    "    if(n%i==0):\n",
    "        count+=1\n",
    "if(count>2):\n",
    "    print(\"The number is not a prime number\")\n",
    "elif(count<=2):\n",
    "    print('Number is a prime number')"
   ]
  },
  {
   "cell_type": "code",
   "execution_count": 51,
   "id": "30c6a3e9",
   "metadata": {},
   "outputs": [
    {
     "name": "stdout",
     "output_type": "stream",
     "text": [
      "[1, 2, 5, 7, 11, 13, 17, 19, 23, 29, 31, 37, 41, 43, 47, 53, 59, 61, 67, 71, 73, 79, 83, 89, 97, 101, 103, 107, 109, 113, 127, 131, 137, 139, 149, 151, 157, 163, 167, 173, 179, 181, 191, 193, 197, 199, 211, 223, 227, 229, 233, 239, 241, 251, 257, 263, 269, 271, 277, 281, 283, 293, 307, 311, 313, 317, 331, 337, 347, 349, 353, 359, 367, 373, 379, 383, 389, 397, 401, 409, 419, 421, 431, 433, 439, 443, 449, 457, 461, 463, 467, 479, 487, 491, 499, 503, 509, 521, 523, 541, 547, 557, 563, 569, 571, 577, 587, 593, 599, 601, 607, 613, 617, 619, 631, 641, 643, 647, 653, 659, 661, 673, 677, 683, 691, 701, 709, 719, 727, 733, 739, 743, 751, 757, 761, 769, 773, 787, 797, 809, 811, 821, 823, 827, 829, 839, 853, 857, 859, 863, 877, 881, 883, 887, 907, 911, 919, 929, 937, 941, 947, 953, 967, 971, 977, 983, 991, 997]\n"
     ]
    }
   ],
   "source": [
    "x=list(range(1,1000))\n",
    "ct=0\n",
    "l2=[]\n",
    "for i in x:\n",
    "    for j in range(1,i):\n",
    "        if(i%j==0):\n",
    "            ct+=1\n",
    "    if ct<2:\n",
    "        l2.append(i)\n",
    "    else:\n",
    "        ct=0\n",
    "print(l2)\n",
    "    \n"
   ]
  },
  {
   "cell_type": "code",
   "execution_count": null,
   "id": "614af50e",
   "metadata": {},
   "outputs": [],
   "source": []
  }
 ],
 "metadata": {
  "kernelspec": {
   "display_name": "Python 3 (ipykernel)",
   "language": "python",
   "name": "python3"
  },
  "language_info": {
   "codemirror_mode": {
    "name": "ipython",
    "version": 3
   },
   "file_extension": ".py",
   "mimetype": "text/x-python",
   "name": "python",
   "nbconvert_exporter": "python",
   "pygments_lexer": "ipython3",
   "version": "3.9.12"
  }
 },
 "nbformat": 4,
 "nbformat_minor": 5
}
