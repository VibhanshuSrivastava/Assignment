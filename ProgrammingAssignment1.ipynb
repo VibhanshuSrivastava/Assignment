{
 "cells": [
  {
   "cell_type": "code",
   "execution_count": 3,
   "id": "d5773475",
   "metadata": {},
   "outputs": [
    {
     "name": "stdout",
     "output_type": "stream",
     "text": [
      "Hello Python\n"
     ]
    }
   ],
   "source": [
    "#Answer1:\n",
    "print(\"Hello Python\")"
   ]
  },
  {
   "cell_type": "code",
   "execution_count": 6,
   "id": "71755239",
   "metadata": {},
   "outputs": [
    {
     "name": "stdout",
     "output_type": "stream",
     "text": [
      "Addition of a and b:  5\n",
      "Subtraction of a and b:  1\n"
     ]
    }
   ],
   "source": [
    "#Answer2:\n",
    "a=3\n",
    "b=2\n",
    "c=a+b\n",
    "d=a-b\n",
    "print(\"Addition of a and b: \",c)\n",
    "print(\"Subtraction of a and b: \",d)"
   ]
  },
  {
   "cell_type": "code",
   "execution_count": 13,
   "id": "baf0685d",
   "metadata": {},
   "outputs": [
    {
     "name": "stdout",
     "output_type": "stream",
     "text": [
      "Input the base: 3\n",
      "Input the height:5\n",
      "Area of Triangle:  7.5\n"
     ]
    }
   ],
   "source": [
    "#Answer3:\n",
    "base= int(input(\"Input the base: \"))\n",
    "height= int(input(\"Input the height:\"))\n",
    "area=0.5*base*height\n",
    "print(\"Area of Triangle: \", area)"
   ]
  },
  {
   "cell_type": "code",
   "execution_count": 14,
   "id": "0446e1b3",
   "metadata": {},
   "outputs": [
    {
     "name": "stdout",
     "output_type": "stream",
     "text": [
      "Enter 1st variable: 2\n",
      "Enter 2nd variable: 3\n",
      "value of a:  3\n",
      "value of b:  2\n"
     ]
    }
   ],
   "source": [
    "#Answer4:\n",
    "a=int(input(\"Enter 1st variable: \"))\n",
    "b=int(input(\"Enter 2nd variable: \"))\n",
    "c=a\n",
    "a=b\n",
    "b=c\n",
    "print(\"value of a: \", a)\n",
    "print(\"value of b: \", b)"
   ]
  },
  {
   "cell_type": "code",
   "execution_count": 21,
   "id": "b9ca3466",
   "metadata": {},
   "outputs": [
    {
     "data": {
      "text/plain": [
       "2"
      ]
     },
     "execution_count": 21,
     "metadata": {},
     "output_type": "execute_result"
    }
   ],
   "source": [
    "import random\n",
    "random.randint(0,10)"
   ]
  },
  {
   "cell_type": "code",
   "execution_count": null,
   "id": "6112d4e5",
   "metadata": {},
   "outputs": [],
   "source": []
  }
 ],
 "metadata": {
  "kernelspec": {
   "display_name": "Python 3 (ipykernel)",
   "language": "python",
   "name": "python3"
  },
  "language_info": {
   "codemirror_mode": {
    "name": "ipython",
    "version": 3
   },
   "file_extension": ".py",
   "mimetype": "text/x-python",
   "name": "python",
   "nbconvert_exporter": "python",
   "pygments_lexer": "ipython3",
   "version": "3.9.12"
  }
 },
 "nbformat": 4,
 "nbformat_minor": 5
}
