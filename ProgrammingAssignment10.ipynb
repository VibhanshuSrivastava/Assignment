{
 "cells": [
  {
   "cell_type": "code",
   "execution_count": 53,
   "id": "8039ec2b",
   "metadata": {},
   "outputs": [],
   "source": [
    "l=[9,5,7,180,6,7,235,78,99]"
   ]
  },
  {
   "cell_type": "code",
   "execution_count": 54,
   "id": "84709697",
   "metadata": {},
   "outputs": [
    {
     "name": "stdout",
     "output_type": "stream",
     "text": [
      "626\n"
     ]
    }
   ],
   "source": [
    "#Answer1:\n",
    "sum=0\n",
    "for i in l:\n",
    "    sum+=i\n",
    "print(sum)"
   ]
  },
  {
   "cell_type": "code",
   "execution_count": 55,
   "id": "5dde1598",
   "metadata": {},
   "outputs": [
    {
     "name": "stdout",
     "output_type": "stream",
     "text": [
      "4321455138000\n"
     ]
    }
   ],
   "source": [
    "#Answer2:\n",
    "mul=1\n",
    "for i in l:\n",
    "    mul*=i\n",
    "print(mul)"
   ]
  },
  {
   "cell_type": "code",
   "execution_count": 56,
   "id": "d1b0328b",
   "metadata": {},
   "outputs": [
    {
     "name": "stdout",
     "output_type": "stream",
     "text": [
      "5\n"
     ]
    }
   ],
   "source": [
    "#Answer3:\n",
    "low=l[0]\n",
    "for i in l:\n",
    "    if i<low:\n",
    "        low=i\n",
    "print(low)"
   ]
  },
  {
   "cell_type": "code",
   "execution_count": 57,
   "id": "52002ff0",
   "metadata": {},
   "outputs": [
    {
     "name": "stdout",
     "output_type": "stream",
     "text": [
      "235\n"
     ]
    }
   ],
   "source": [
    "#Answer4:\n",
    "high=l[0]\n",
    "for i in l:\n",
    "    if i>high:\n",
    "        high=i\n",
    "print(high)"
   ]
  },
  {
   "cell_type": "code",
   "execution_count": 58,
   "id": "4eb33e28",
   "metadata": {},
   "outputs": [
    {
     "name": "stdout",
     "output_type": "stream",
     "text": [
      "180\n"
     ]
    }
   ],
   "source": [
    "#Answer5:\n",
    "high=l[0]\n",
    "secondHigh=0\n",
    "for i in l:\n",
    "    if i>high:\n",
    "        secondHigh=high\n",
    "        high=i\n",
    "    elif i>secondHigh and i<high:\n",
    "        secondHigh=i\n",
    "print(secondHigh)"
   ]
  },
  {
   "cell_type": "code",
   "execution_count": 63,
   "id": "eebdb856",
   "metadata": {},
   "outputs": [
    {
     "name": "stdout",
     "output_type": "stream",
     "text": [
      "Enter the value of n for largest elements from a list: 5\n"
     ]
    },
    {
     "data": {
      "text/plain": [
       "[235, 180, 99, 78, 9]"
      ]
     },
     "execution_count": 63,
     "metadata": {},
     "output_type": "execute_result"
    }
   ],
   "source": [
    "#Answer6:\n",
    "n=int(input(\"Enter the value of n for largest elements from a list: \"))\n",
    "\n",
    "l.sort(reverse=True)\n",
    "l[0:n]\n"
   ]
  },
  {
   "cell_type": "code",
   "execution_count": 64,
   "id": "f926c8f5",
   "metadata": {},
   "outputs": [
    {
     "name": "stdout",
     "output_type": "stream",
     "text": [
      "180\n",
      "78\n",
      "6\n"
     ]
    }
   ],
   "source": [
    "#Answer7:\n",
    "for i in l:\n",
    "    if i%2==0:\n",
    "        print(i)"
   ]
  },
  {
   "cell_type": "code",
   "execution_count": 65,
   "id": "555b784a",
   "metadata": {},
   "outputs": [
    {
     "name": "stdout",
     "output_type": "stream",
     "text": [
      "235\n",
      "99\n",
      "9\n",
      "7\n",
      "7\n",
      "5\n"
     ]
    }
   ],
   "source": [
    "#Answer8:\n",
    "for i in l:\n",
    "    if i%2!=0:\n",
    "        print(i)"
   ]
  },
  {
   "cell_type": "code",
   "execution_count": 66,
   "id": "c38a8d54",
   "metadata": {},
   "outputs": [
    {
     "name": "stdout",
     "output_type": "stream",
     "text": [
      "[[1, 2, 3], [1, 2, 3, 4]]\n"
     ]
    }
   ],
   "source": [
    "#Answer9:\n",
    "l3=[[],[1,2,3],[],[1,2,3,4],[],[]]\n",
    "l4=[]\n",
    "for i in l3:\n",
    "    if(i!=[]):\n",
    "        l4.append(i)\n",
    "print(l4)"
   ]
  },
  {
   "cell_type": "code",
   "execution_count": 67,
   "id": "b65c0677",
   "metadata": {},
   "outputs": [
    {
     "name": "stdout",
     "output_type": "stream",
     "text": [
      "[235, 180, 99, 78, 9, 7, 7, 6, 5]\n"
     ]
    }
   ],
   "source": [
    "#Answer10:\n",
    "l_copy=[]\n",
    "for i in l:\n",
    "    l_copy.append(i)\n",
    "print(l_copy)"
   ]
  },
  {
   "cell_type": "code",
   "execution_count": 68,
   "id": "f9f2628c",
   "metadata": {},
   "outputs": [
    {
     "name": "stdout",
     "output_type": "stream",
     "text": [
      "99 has occured 1 times.\n",
      "5 has occured 1 times.\n",
      "6 has occured 1 times.\n",
      "7 has occured 2 times.\n",
      "9 has occured 1 times.\n",
      "235 has occured 1 times.\n",
      "78 has occured 1 times.\n",
      "180 has occured 1 times.\n"
     ]
    }
   ],
   "source": [
    "#Answer11:\n",
    "c=0\n",
    "for i in set(l):\n",
    "    c=l.count(i)\n",
    "    print( \"{0} has occured {1} times.\".format(i,c))"
   ]
  },
  {
   "cell_type": "code",
   "execution_count": null,
   "id": "dd091484",
   "metadata": {},
   "outputs": [],
   "source": []
  },
  {
   "cell_type": "code",
   "execution_count": null,
   "id": "8229f61b",
   "metadata": {},
   "outputs": [],
   "source": []
  },
  {
   "cell_type": "code",
   "execution_count": null,
   "id": "63cf3c93",
   "metadata": {},
   "outputs": [],
   "source": []
  }
 ],
 "metadata": {
  "kernelspec": {
   "display_name": "Python 3 (ipykernel)",
   "language": "python",
   "name": "python3"
  },
  "language_info": {
   "codemirror_mode": {
    "name": "ipython",
    "version": 3
   },
   "file_extension": ".py",
   "mimetype": "text/x-python",
   "name": "python",
   "nbconvert_exporter": "python",
   "pygments_lexer": "ipython3",
   "version": "3.9.12"
  }
 },
 "nbformat": 4,
 "nbformat_minor": 5
}
