{
 "cells": [
  {
   "cell_type": "code",
   "execution_count": 1,
   "id": "c2890c88",
   "metadata": {},
   "outputs": [
    {
     "name": "stdout",
     "output_type": "stream",
     "text": [
      "Enter the value of length: 5\n",
      "inueron\n",
      "vibhanshu\n",
      "qwerty\n"
     ]
    }
   ],
   "source": [
    "#Answer1:\n",
    "l=['inueron','vibhanshu','abcde','qwerty','abc','zoo','on']\n",
    "k=int(input(\"Enter the value of length: \"))\n",
    "for i in l:\n",
    "    if len(i)>k:\n",
    "        print(i)"
   ]
  },
  {
   "cell_type": "code",
   "execution_count": 4,
   "id": "3e558945",
   "metadata": {},
   "outputs": [
    {
     "name": "stdout",
     "output_type": "stream",
     "text": [
      "Enter the index of the character that needs to be deleted7\n",
      "vibhanhu\n"
     ]
    }
   ],
   "source": [
    "#Answer2:\n",
    "s=\"vibhanhsu\"\n",
    "n=int(input(\"Enter the index of the character that needs to be deleted\"))\n",
    "a=s.replace(s[n],\"\")\n",
    "print(a)"
   ]
  },
  {
   "cell_type": "code",
   "execution_count": 21,
   "id": "00bdc47c",
   "metadata": {},
   "outputs": [
    {
     "name": "stdout",
     "output_type": "stream",
     "text": [
      "['I', 'am', 'working', 'on', 'python']\n"
     ]
    },
    {
     "data": {
      "text/plain": [
       "'I   a m   w o r k i n g   o n   p y t h o n'"
      ]
     },
     "execution_count": 21,
     "metadata": {},
     "output_type": "execute_result"
    }
   ],
   "source": [
    "#Answer3:\n",
    "s1=\"I am working on python\"\n",
    "print(s1.split(\" \"))\n",
    "\" \".join(s1)\n"
   ]
  },
  {
   "cell_type": "code",
   "execution_count": 25,
   "id": "97bd10a2",
   "metadata": {},
   "outputs": [
    {
     "name": "stdout",
     "output_type": "stream",
     "text": [
      "binary\n"
     ]
    }
   ],
   "source": [
    "#Answer4:\n",
    "s=\"10111000010101\"\n",
    "a=len(s)\n",
    "count=0\n",
    "binary=\"01\"\n",
    "for i in s:\n",
    "    if i in binary:\n",
    "        count+=1\n",
    "if count==a:\n",
    "    print(\"binary string\")\n",
    "else:\n",
    "    print(\"Not binary\")"
   ]
  },
  {
   "cell_type": "code",
   "execution_count": 7,
   "id": "85501fc8",
   "metadata": {},
   "outputs": [
    {
     "name": "stdout",
     "output_type": "stream",
     "text": [
      "g\n",
      "f\n"
     ]
    }
   ],
   "source": [
    "#Answer5:\n",
    "def uncommonChars(s1,s2):\n",
    "    for i in set(s1):\n",
    "        if i not in s2:\n",
    "            print(i)\n",
    "    for i in set(s2):\n",
    "        if i not in s1:\n",
    "            print(i)\n",
    "uncommonChars(\"abcdeg\",\"abcdffeaaa\")"
   ]
  },
  {
   "cell_type": "code",
   "execution_count": 4,
   "id": "79d81b5e",
   "metadata": {},
   "outputs": [
    {
     "name": "stdout",
     "output_type": "stream",
     "text": [
      "c\n",
      "d\n",
      "e\n",
      "a\n",
      "b\n"
     ]
    }
   ],
   "source": [
    "#Answer6:\n",
    "def duplicateChars(s1,s2):\n",
    "    for i in set(s1):\n",
    "        if i in s2:\n",
    "            print(i)\n",
    "duplicateChars(\"abcde\",\"abcdffeaaa\")"
   ]
  },
  {
   "cell_type": "code",
   "execution_count": 8,
   "id": "e061dc23",
   "metadata": {},
   "outputs": [
    {
     "name": "stdout",
     "output_type": "stream",
     "text": [
      "Special character found:  @\n",
      "Special character found:  %\n",
      "Special character found:  ^\n",
      "Special character found:  &\n"
     ]
    }
   ],
   "source": [
    "#Answer7:\n",
    "special_characters = \"\"\"!@#$%^&*()-+?_=,<>/\"\"\"\n",
    "s=\"hcdwhjI@UJOIJWNN5%^&\"\n",
    "for i in s:\n",
    "    if i in special_characters:\n",
    "        print(\"Special character found: \",i)"
   ]
  },
  {
   "cell_type": "code",
   "execution_count": null,
   "id": "9b75cb3d",
   "metadata": {},
   "outputs": [],
   "source": []
  }
 ],
 "metadata": {
  "kernelspec": {
   "display_name": "Python 3 (ipykernel)",
   "language": "python",
   "name": "python3"
  },
  "language_info": {
   "codemirror_mode": {
    "name": "ipython",
    "version": 3
   },
   "file_extension": ".py",
   "mimetype": "text/x-python",
   "name": "python",
   "nbconvert_exporter": "python",
   "pygments_lexer": "ipython3",
   "version": "3.9.12"
  }
 },
 "nbformat": 4,
 "nbformat_minor": 5
}
