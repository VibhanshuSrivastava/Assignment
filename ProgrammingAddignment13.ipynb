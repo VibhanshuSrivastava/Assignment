{
 "cells": [
  {
   "cell_type": "code",
   "execution_count": 11,
   "id": "f9ab0563",
   "metadata": {},
   "outputs": [
    {
     "name": "stdout",
     "output_type": "stream",
     "text": [
      "Enter the value of h: 100,150,180\n",
      "[18, 22, 24]\n"
     ]
    }
   ],
   "source": [
    "#Answer1:\n",
    "import math\n",
    "c=50\n",
    "h=30\n",
    "a=input(\"Enter the value of h: \")\n",
    "l=list(a.split(\",\"))\n",
    "l1=[]\n",
    "l2=[]\n",
    "for i in l:\n",
    "    l1.append(int(i))\n",
    "for i in l1:\n",
    "    q=math.sqrt((2*c*i)/h)\n",
    "    l2.append(round(q))\n",
    "print(l2)"
   ]
  },
  {
   "cell_type": "code",
   "execution_count": 24,
   "id": "14f8ad4f",
   "metadata": {},
   "outputs": [
    {
     "name": "stdout",
     "output_type": "stream",
     "text": [
      "Enter the value of x: 4\n",
      "Enter the value of y: 4\n",
      "[[0, 0, 0, 0], [0, 1, 2, 3], [0, 2, 4, 6], [0, 3, 6, 9]]\n"
     ]
    }
   ],
   "source": [
    "#Answer2:\n",
    "x=int(input('Enter the value of x: '))\n",
    "y=int(input('Enter the value of y: '))\n",
    "l2=[]\n",
    "for i in range(x):\n",
    "    l1=[]\n",
    "    for j in range(y):\n",
    "        j=i*j\n",
    "        l1.append(j)\n",
    "    l2.insert(i,l1)\n",
    "print(l2)"
   ]
  },
  {
   "cell_type": "code",
   "execution_count": 25,
   "id": "0cb9f960",
   "metadata": {},
   "outputs": [
    {
     "name": "stdout",
     "output_type": "stream",
     "text": [
      "Enter sequence of words seperated with comma: without,hello,bag,world\n",
      "bag,hello,without,world\n"
     ]
    }
   ],
   "source": [
    "#Answer3:\n",
    "l=[]\n",
    "l2=[]\n",
    "s=\"\"\n",
    "a=input(\"Enter sequence of words seperated with comma: \")\n",
    "l=list(a.split(\",\"))\n",
    "l.sort()\n",
    "for i in range(len(l)):\n",
    "    if i<len(l)-1:\n",
    "        s=s+l[i]+\",\"\n",
    "    else:\n",
    "        s=s+l[i]\n",
    "print(s)"
   ]
  },
  {
   "cell_type": "code",
   "execution_count": 25,
   "id": "eb36b886",
   "metadata": {},
   "outputs": [
    {
     "name": "stdout",
     "output_type": "stream",
     "text": [
      "Enter the string: hello world and practice makes perfect and hello world again\n",
      "again and hello makes perfect practice world\n"
     ]
    }
   ],
   "source": [
    "#Answer4:\n",
    "s=input('Enter the string: ')\n",
    "s1=\"\"\n",
    "a=set(s.split(\" \"))\n",
    "a=list(a)\n",
    "a.sort()\n",
    "for i in range(len(a)):\n",
    "    if i<len(a)-1:\n",
    "        s1=s1+a[i]+\" \"\n",
    "    else:\n",
    "        s1=s1+a[i]\n",
    "print(s1)"
   ]
  },
  {
   "cell_type": "code",
   "execution_count": 31,
   "id": "935218a0",
   "metadata": {},
   "outputs": [
    {
     "name": "stdout",
     "output_type": "stream",
     "text": [
      "Enter the string: hello world! 123\n",
      "LETTERS:  10\n",
      "DIGITS:  3\n"
     ]
    }
   ],
   "source": [
    "#Answer5:\n",
    "a=input(\"Enter the string: \")\n",
    "letter=0\n",
    "digits=0\n",
    "\n",
    "for i in a:\n",
    "    if i.isdigit():\n",
    "        digits+=1\n",
    "    elif i.isalpha():\n",
    "        letter+=1\n",
    "print(\"LETTERS: \",letter)\n",
    "print(\"DIGITS: \",digits)"
   ]
  },
  {
   "cell_type": "code",
   "execution_count": 7,
   "id": "20ab1e8a",
   "metadata": {},
   "outputs": [
    {
     "name": "stdout",
     "output_type": "stream",
     "text": [
      "Enter the passwords seperated by comma: ABd1234@1,a F1#,2w3E*,2We3345\n"
     ]
    },
    {
     "data": {
      "text/plain": [
       "['ABd1234@1']"
      ]
     },
     "execution_count": 7,
     "metadata": {},
     "output_type": "execute_result"
    }
   ],
   "source": [
    "#Answer6:\n",
    "s=input(\"Enter the passwords seperated by comma: \")\n",
    "a=s.split(',')\n",
    "\n",
    "\n",
    "l=[]\n",
    "for i in a:\n",
    "    u=0\n",
    "    lw=0\n",
    "    n=0\n",
    "    sp=0\n",
    "    for  j in i:\n",
    "        if j.islower():\n",
    "            lw+=1\n",
    "        elif j.isupper():\n",
    "            u+=1\n",
    "        elif j.isdigit():\n",
    "            n+=1\n",
    "        elif j=='$' or j=='#' or j=='@':\n",
    "            sp+=1\n",
    "    if u>=1 and lw>=1 and n>=1 and sp>=1 and len(i)<=12 and len(i)>=6:\n",
    "        l.append(i)\n",
    "        \n",
    "                \n",
    "l"
   ]
  },
  {
   "cell_type": "code",
   "execution_count": null,
   "id": "7cdbdade",
   "metadata": {},
   "outputs": [],
   "source": []
  }
 ],
 "metadata": {
  "kernelspec": {
   "display_name": "Python 3 (ipykernel)",
   "language": "python",
   "name": "python3"
  },
  "language_info": {
   "codemirror_mode": {
    "name": "ipython",
    "version": 3
   },
   "file_extension": ".py",
   "mimetype": "text/x-python",
   "name": "python",
   "nbconvert_exporter": "python",
   "pygments_lexer": "ipython3",
   "version": "3.9.12"
  }
 },
 "nbformat": 4,
 "nbformat_minor": 5
}
